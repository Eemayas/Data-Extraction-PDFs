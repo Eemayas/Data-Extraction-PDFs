{
  "cells": [
    {
      "cell_type": "code",
      "execution_count": 3,
      "metadata": {
        "colab": {
          "base_uri": "https://localhost:8080/"
        },
        "id": "dEzbk6gXdVSu",
        "outputId": "fa7a599d-57b8-42f6-8833-0e97241780b5"
      },
      "outputs": [
        {
          "name": "stdout",
          "output_type": "stream",
          "text": [
            "Requirement already satisfied: pymupdf in c:\\users\\prash\\appdata\\local\\programs\\python\\python311\\lib\\site-packages (1.23.7)\n",
            "Requirement already satisfied: PyMuPDFb==1.23.7 in c:\\users\\prash\\appdata\\local\\programs\\python\\python311\\lib\\site-packages (from pymupdf) (1.23.7)\n",
            "Note: you may need to restart the kernel to use updated packages.\n",
            "Requirement already satisfied: frontend in c:\\users\\prash\\appdata\\local\\programs\\python\\python311\\lib\\site-packages (0.0.3)\n",
            "Requirement already satisfied: starlette>=0.12.0 in c:\\users\\prash\\appdata\\local\\programs\\python\\python311\\lib\\site-packages (from frontend) (0.33.0)\n",
            "Requirement already satisfied: uvicorn>=0.7.1 in c:\\users\\prash\\appdata\\local\\programs\\python\\python311\\lib\\site-packages (from frontend) (0.24.0.post1)\n",
            "Requirement already satisfied: itsdangerous>=1.1.0 in c:\\users\\prash\\appdata\\local\\programs\\python\\python311\\lib\\site-packages (from frontend) (2.1.2)\n",
            "Requirement already satisfied: aiofiles in c:\\users\\prash\\appdata\\local\\programs\\python\\python311\\lib\\site-packages (from frontend) (23.2.1)\n",
            "Requirement already satisfied: anyio<5,>=3.4.0 in c:\\users\\prash\\appdata\\local\\programs\\python\\python311\\lib\\site-packages (from starlette>=0.12.0->frontend) (4.1.0)\n",
            "Requirement already satisfied: click>=7.0 in c:\\users\\prash\\appdata\\local\\programs\\python\\python311\\lib\\site-packages (from uvicorn>=0.7.1->frontend) (8.1.7)\n",
            "Requirement already satisfied: h11>=0.8 in c:\\users\\prash\\appdata\\local\\programs\\python\\python311\\lib\\site-packages (from uvicorn>=0.7.1->frontend) (0.9.0)\n",
            "Requirement already satisfied: idna>=2.8 in c:\\users\\prash\\appdata\\local\\programs\\python\\python311\\lib\\site-packages (from anyio<5,>=3.4.0->starlette>=0.12.0->frontend) (3.4)\n",
            "Requirement already satisfied: sniffio>=1.1 in c:\\users\\prash\\appdata\\local\\programs\\python\\python311\\lib\\site-packages (from anyio<5,>=3.4.0->starlette>=0.12.0->frontend) (1.3.0)\n",
            "Requirement already satisfied: colorama in c:\\users\\prash\\appdata\\roaming\\python\\python311\\site-packages (from click>=7.0->uvicorn>=0.7.1->frontend) (0.4.6)\n",
            "Note: you may need to restart the kernel to use updated packages.\n"
          ]
        }
      ],
      "source": [
        "%pip install pymupdf\n",
        "%pip install frontend"
      ]
    },
    {
      "cell_type": "code",
      "execution_count": 5,
      "metadata": {
        "id": "GkTtm66kt0S4"
      },
      "outputs": [],
      "source": [
        "coordinates_list = [\n",
        "  # left top  right bottom\n",
        "    [125.3499984741211, 493.64999135335285, 750.7000211079915, 545.1749801635742],\n",
        "    [1017.4500147501627, 493.8230616251628, 1563.2874806722004, 545.3230616251627],\n",
        "    [2100.854176839193, 1526.5500386555989, 2311.479949951172, 1570.6249593098958],\n",
        "    [2209.595743815104, 1579.3500264485676, 2298.7879435221353, 1619.4249471028645],\n",
        "    [2206.0707092285156, 1629.6000162760417, 2295.262908935547, 1669.6749369303386],\n",
        "    [2189.854176839193, 1675.2000172932942, 2311.479949951172, 1715.274937947591],\n",
        "    [2190.979258219401, 1727.8500874837239, 2312.6050313313804, 1767.9250081380208],\n",
        "    [2184.070841471354, 1775.8500417073567, 2321.913401285807, 1815.9249623616536],\n",
        "    [2208.3958943684897, 1965.1500701904297, 2297.588094075521, 2005.2249908447266],\n",
        "    [2190.979258219401, 2029.800033569336, 2312.6050313313804, 2069.874954223633],\n",
        "    [2192.1791076660156, 2080.2000681559243, 2313.8048807779946, 2120.274988810221],\n",
        "    [2194.579060872396, 2130.4500579833984, 2316.204833984375, 2170.525105794271],\n",
        "    [2218.9041137695312, 2176.0498046875, 2291.8795267740884, 2216.1249796549478],\n",
        "    [2182.8707377115884, 2231.0999552408853, 2320.7132975260415, 2271.1751302083335],\n",
        "    [2209.595743815104, 2322.149912516276, 2298.7879435221353, 2362.225087483724],\n",
        "    [2192.1791076660156, 2379.7498067220054, 2313.8048807779946, 2419.824981689453],\n",
        "    [2189.854176839193, 2427.599843343099, 2311.479949951172, 2467.675018310547],\n",
        "    [2186.4707946777344, 2477.9998779296875, 2324.3133544921875, 2518.0750528971353],\n",
        "    [2185.2709452311196, 2525.999959309896, 2323.1135050455728, 2566.0751342773438],\n",
        "    [2201.487477620443, 2576.2499491373696, 2306.8964640299478, 2616.325124104818],\n",
        "    [2190.979258219401, 2626.6499837239585, 2312.6050313313804, 2666.7251586914062],\n",
        "    [2193.3792114257812, 2676.899973551432, 2315.0049845377603, 2716.9751485188804],\n",
        "    [2193.3792114257812, 2676.899973551432, 2315.0049845377603, 2716.9751485188804]\n",
        "]\n",
        "\n",
        "pdf_dir = \"./Data Extraction/Train Files/1040_file_2.pdf\"  # Replace with your PDF file path\n",
        "doc = fitz.open(pdf_dir)\n",
        "page = doc[0]\n",
        "\n",
        "blocks = page.get_text(\"dict\")['blocks']\n",
        "text_blocks = [block for block in blocks if block['type'] == 0]\n",
        "color = 'red'\n",
        "width = 2\n",
        "TARGET_DPI = 300\n",
        "mat = fitz.Matrix(TARGET_DPI / 72, TARGET_DPI / 72)\n",
        "pix_map = doc[0].get_pixmap(matrix=mat)\n",
        "image = Image.open(BytesIO(pix_map.tobytes()))\n",
        "draw = ImageDraw.Draw(image)\n",
        "\n",
        "# Loop through the list of coordinates\n",
        "for coordinates in coordinates_list:\n",
        "    x0, y0, x1, y1 = coordinates\n",
        "    draw.rectangle((x0, y0, x1, y1), fill=None, outline='green', width=width)\n",
        "\n",
        "\n",
        "image.show()\n",
        "# image.save(\"output_image.png\")  # Uncomment to save the image\n",
        "with open(\"output_all.png\", \"wb\") as output_file:\n",
        "  image.save(output_file)"
      ]
    },
    {
      "cell_type": "code",
      "execution_count": 4,
      "metadata": {
        "id": "2txZEHRadRCf"
      },
      "outputs": [
        {
          "ename": "FileNotFoundError",
          "evalue": "no such file: '/content/drive/MyDrive/Docsumo - IT MEET/Data Extraction/Train Files/1040_file_2.pdf'",
          "output_type": "error",
          "traceback": [
            "\u001b[1;31m---------------------------------------------------------------------------\u001b[0m",
            "\u001b[1;31mFileNotFoundError\u001b[0m                         Traceback (most recent call last)",
            "\u001b[1;32m~\\AppData\\Local\\Temp\\ipykernel_22248\\145465138.py\u001b[0m in \u001b[0;36m?\u001b[1;34m()\u001b[0m\n\u001b[0;32m      2\u001b[0m \u001b[1;32mfrom\u001b[0m \u001b[0mio\u001b[0m \u001b[1;32mimport\u001b[0m \u001b[0mBytesIO\u001b[0m\u001b[1;33m\u001b[0m\u001b[1;33m\u001b[0m\u001b[0m\n\u001b[0;32m      3\u001b[0m \u001b[1;32mimport\u001b[0m \u001b[0mfitz\u001b[0m\u001b[1;33m\u001b[0m\u001b[1;33m\u001b[0m\u001b[0m\n\u001b[0;32m      4\u001b[0m \u001b[1;33m\u001b[0m\u001b[0m\n\u001b[0;32m      5\u001b[0m \u001b[0mpdf_dir\u001b[0m \u001b[1;33m=\u001b[0m \u001b[1;34m\"/content/drive/MyDrive/Docsumo - IT MEET/Data Extraction/Train Files/1040_file_2.pdf\"\u001b[0m  \u001b[1;31m# Replace with your PDF file path\u001b[0m\u001b[1;33m\u001b[0m\u001b[1;33m\u001b[0m\u001b[0m\n\u001b[1;32m----> 6\u001b[1;33m \u001b[0mdoc\u001b[0m \u001b[1;33m=\u001b[0m \u001b[0mfitz\u001b[0m\u001b[1;33m.\u001b[0m\u001b[0mopen\u001b[0m\u001b[1;33m(\u001b[0m\u001b[0mpdf_dir\u001b[0m\u001b[1;33m)\u001b[0m\u001b[1;33m\u001b[0m\u001b[1;33m\u001b[0m\u001b[0m\n\u001b[0m\u001b[0;32m      7\u001b[0m \u001b[0mpage\u001b[0m \u001b[1;33m=\u001b[0m \u001b[0mdoc\u001b[0m\u001b[1;33m[\u001b[0m\u001b[1;36m0\u001b[0m\u001b[1;33m]\u001b[0m\u001b[1;33m\u001b[0m\u001b[1;33m\u001b[0m\u001b[0m\n\u001b[0;32m      8\u001b[0m \u001b[1;33m\u001b[0m\u001b[0m\n\u001b[0;32m      9\u001b[0m \u001b[0mblocks\u001b[0m \u001b[1;33m=\u001b[0m \u001b[0mpage\u001b[0m\u001b[1;33m.\u001b[0m\u001b[0mget_text\u001b[0m\u001b[1;33m(\u001b[0m\u001b[1;34m\"dict\"\u001b[0m\u001b[1;33m)\u001b[0m\u001b[1;33m[\u001b[0m\u001b[1;34m'blocks'\u001b[0m\u001b[1;33m]\u001b[0m\u001b[1;33m\u001b[0m\u001b[1;33m\u001b[0m\u001b[0m\n",
            "\u001b[1;32mc:\\Users\\prash\\AppData\\Local\\Programs\\Python\\Python311\\Lib\\site-packages\\fitz\\fitz.py\u001b[0m in \u001b[0;36m?\u001b[1;34m(self, filename, stream, filetype, rect, width, height, fontsize)\u001b[0m\n\u001b[0;32m   4114\u001b[0m \u001b[1;33m\u001b[0m\u001b[0m\n\u001b[0;32m   4115\u001b[0m         \u001b[1;32mif\u001b[0m \u001b[0mfrom_file\u001b[0m\u001b[1;33m:\u001b[0m\u001b[1;33m\u001b[0m\u001b[1;33m\u001b[0m\u001b[0m\n\u001b[0;32m   4116\u001b[0m             \u001b[1;32mif\u001b[0m \u001b[1;32mnot\u001b[0m \u001b[0mos\u001b[0m\u001b[1;33m.\u001b[0m\u001b[0mpath\u001b[0m\u001b[1;33m.\u001b[0m\u001b[0mexists\u001b[0m\u001b[1;33m(\u001b[0m\u001b[0mfilename\u001b[0m\u001b[1;33m)\u001b[0m\u001b[1;33m:\u001b[0m\u001b[1;33m\u001b[0m\u001b[1;33m\u001b[0m\u001b[0m\n\u001b[0;32m   4117\u001b[0m                 \u001b[0mmsg\u001b[0m \u001b[1;33m=\u001b[0m \u001b[1;34mf\"no such file: '{filename}'\"\u001b[0m\u001b[1;33m\u001b[0m\u001b[1;33m\u001b[0m\u001b[0m\n\u001b[1;32m-> 4118\u001b[1;33m                 \u001b[1;32mraise\u001b[0m \u001b[0mFileNotFoundError\u001b[0m\u001b[1;33m(\u001b[0m\u001b[0mmsg\u001b[0m\u001b[1;33m)\u001b[0m\u001b[1;33m\u001b[0m\u001b[1;33m\u001b[0m\u001b[0m\n\u001b[0m\u001b[0;32m   4119\u001b[0m             \u001b[1;32melif\u001b[0m \u001b[1;32mnot\u001b[0m \u001b[0mos\u001b[0m\u001b[1;33m.\u001b[0m\u001b[0mpath\u001b[0m\u001b[1;33m.\u001b[0m\u001b[0misfile\u001b[0m\u001b[1;33m(\u001b[0m\u001b[0mfilename\u001b[0m\u001b[1;33m)\u001b[0m\u001b[1;33m:\u001b[0m\u001b[1;33m\u001b[0m\u001b[1;33m\u001b[0m\u001b[0m\n\u001b[0;32m   4120\u001b[0m                 \u001b[0mmsg\u001b[0m \u001b[1;33m=\u001b[0m \u001b[1;34mf\"'{filename}' is no file\"\u001b[0m\u001b[1;33m\u001b[0m\u001b[1;33m\u001b[0m\u001b[0m\n\u001b[0;32m   4121\u001b[0m                 \u001b[1;32mraise\u001b[0m \u001b[0mFileDataError\u001b[0m\u001b[1;33m(\u001b[0m\u001b[0mmsg\u001b[0m\u001b[1;33m)\u001b[0m\u001b[1;33m\u001b[0m\u001b[1;33m\u001b[0m\u001b[0m\n",
            "\u001b[1;31mFileNotFoundError\u001b[0m: no such file: '/content/drive/MyDrive/Docsumo - IT MEET/Data Extraction/Train Files/1040_file_2.pdf'"
          ]
        }
      ],
      "source": [
        "from PIL import Image, ImageDraw\n",
        "from io import BytesIO\n",
        "import fitz\n",
        "\n",
        "pdf_dir = \"./Data Extraction/Train Files/1040_file_2.pdf\"  # Replace with your PDF file path\n",
        "doc = fitz.open(pdf_dir)\n",
        "page = doc[0]\n",
        "\n",
        "blocks = page.get_text(\"dict\")['blocks']\n",
        "text_blocks = [block for block in blocks if block['type'] == 0]\n",
        "color = 'red'\n",
        "width = 2\n",
        "TARGET_DPI = 300\n",
        "mat = fitz.Matrix(TARGET_DPI / 72, TARGET_DPI / 72)\n",
        "pix_map = doc[0].get_pixmap(matrix=mat)\n",
        "image = Image.open(BytesIO(pix_map.tobytes()))\n",
        "draw = ImageDraw.Draw(image)\n",
        "\n",
        "for block in text_blocks:\n",
        "    for line in block['lines']:\n",
        "        for span in line['spans']:\n",
        "            # x0, y0, x1, y1 = [coord * TARGET_DPI / 72 for coord in span['bbox']]\n",
        "            x0, y0, x1, y1 = 1175.3499984741211,504.62296803792316,306.6750208536784,542.1229680379232\n",
        "            draw.rectangle((x0, y0, x1, y1), fill=None, outline='green', width=width)\n",
        "\n",
        "# Display or save the modified image\n",
        "image.show()\n",
        "# image.save(\"output_image.png\")  # Uncomment to save the image\n",
        "# with open(\"/content/drive/MyDrive/Docsumo - IT MEET/output.png\", \"wb\") as output_file:\n",
        "#   image.save(output_file)"
      ]
    },
    {
      "cell_type": "code",
      "execution_count": 7,
      "metadata": {
        "colab": {
          "base_uri": "https://localhost:8080/"
        },
        "id": "ro7KdmxFdSmB",
        "outputId": "7ca3c619-671c-44d9-a971-9f51a5772340"
      },
      "outputs": [
        {
          "name": "stdout",
          "output_type": "stream",
          "text": [
            "Found '70500.5' at coordinates: target_x0, target_y0,target_x1,target_y1=2200.2873738606772,1828.499984741211, 2305.696360270182,1868.5749053955078\n"
          ]
        }
      ],
      "source": [
        "from PIL import Image, ImageDraw\n",
        "from io import BytesIO\n",
        "import fitz\n",
        "\n",
        "pdf_dir = \"./Data Extraction/Train Files/1040_file_2.pdf\"  # Replace with your PDF file path\n",
        "doc = fitz.open(pdf_dir)\n",
        "page = doc[0]\n",
        "\n",
        "# Define the text you want to find\n",
        "target_text = \"70500.5\"\n",
        "\n",
        "blocks = page.get_text(\"dict\")['blocks']\n",
        "text_blocks = [block for block in blocks if block['type'] == 0]\n",
        "target_x0, target_y0,target_x1,target_y1=0,0,0,0\n",
        "for block in text_blocks:\n",
        "    for line in block['lines']:\n",
        "        for span in line['spans']:\n",
        "            if target_text in span['text']:\n",
        "                x0, y0, x1, y1 = [coord * TARGET_DPI / 72 for coord in span['bbox']]\n",
        "                target_x0, target_y0,target_x1,target_y1=x0,y0,x1,y1\n",
        "                print(f\"Found '{target_text}' at coordinates: target_x0, target_y0,target_x1,target_y1={x0},{y0}, {x1},{y1}\")\n",
        "\n",
        "# Rest of your code for drawing or saving the image\n",
        "# Display or save the modified image\n",
        "image.show()\n",
        "# image.save(\"output_image.png\")  # Uncomment to save the image\n",
        "with open(\"./Data Extraction/Train Files/output_2.png\", \"wb\") as output_file:\n",
        "  image.save(output_file)"
      ]
    },
    {
      "cell_type": "code",
      "execution_count": 8,
      "metadata": {
        "colab": {
          "base_uri": "https://localhost:8080/"
        },
        "id": "pt4gtxdMdZmF",
        "outputId": "e6464579-2498-4658-e959-195187f439e8"
      },
      "outputs": [
        {
          "name": "stdout",
          "output_type": "stream",
          "text": [
            "Text at coordinates (2200.2873738606772, 1828.499984741211, 2305.696360270182, 1868.5749053955078): 70500.5\n"
          ]
        }
      ],
      "source": [
        "import fitz\n",
        "\n",
        "pdf_dir = \"./Data Extraction/Train Files/1040_file_2.pdf\"  # Replace with your PDF file path\n",
        "doc = fitz.open(pdf_dir)\n",
        "page = doc[0]\n",
        "\n",
        "# Given coordinates\n",
        "# target_x0, target_y0,target_x1,target_y1=2189.854176839193,1727.8500874837239, 2304.496510823568, 1767.9250081380208\n",
        "\n",
        "blocks = page.get_text(\"dict\")['blocks']\n",
        "text_blocks = [block for block in blocks if block['type'] == 0]\n",
        "\n",
        "target_text = None\n",
        "\n",
        "for block in text_blocks:\n",
        "    for line in block['lines']:\n",
        "        for span in line['spans']:\n",
        "            x0, y0, x1, y1 = [coord * TARGET_DPI / 72 for coord in span['bbox']]\n",
        "            if target_x0 <= x0 <= target_x1 and target_y0 <= y0 <= target_y1 and \\\n",
        "               target_x0 <= x1 <= target_x1 and target_y0 <= y1 <= target_y1:\n",
        "                target_text = span['text']\n",
        "\n",
        "# Print the text at the given coordinates\n",
        "if target_text is not None:\n",
        "    print(f\"Text at coordinates ({target_x0}, {target_y0}, {target_x1}, {target_y1}): {target_text}\")\n",
        "else:\n",
        "    print(f\"No text found at coordinates ({target_x0}, {target_y0}, {target_x1}, {target_y1})\")\n"
      ]
    },
    {
      "cell_type": "code",
      "execution_count": null,
      "metadata": {
        "colab": {
          "base_uri": "https://localhost:8080/",
          "height": 140
        },
        "id": "pyf3QAnceRdO",
        "outputId": "6016c77e-6276-41e3-9c4b-343e8d58bb91"
      },
      "outputs": [
        {
          "ename": "SyntaxError",
          "evalue": "ignored",
          "output_type": "error",
          "traceback": [
            "\u001b[0;36m  File \u001b[0;32m\"<ipython-input-8-509ea4e8596e>\"\u001b[0;36m, line \u001b[0;32m3\u001b[0m\n\u001b[0;31m    last Name\u001b[0m\n\u001b[0m         ^\u001b[0m\n\u001b[0;31mSyntaxError\u001b[0m\u001b[0;31m:\u001b[0m invalid syntax\n"
          ]
        }
      ],
      "source": [
        "# First Name\n",
        "#   175.3499984741211,493.64999135335285, 308.7000211079915,545.1749801635742\n",
        "# last Name\n",
        "#   1017.4500147501627,499.8230616251628, 1163.2874806722004,537.3230616251627\n",
        "# 1a\n",
        "#   2189.854176839193,1526.5500386555989, 2311.479949951172,1566.6249593098958\n",
        "# 1f\n",
        "#   2184.070841471354,1775.8500417073567, 2321.913401285807,1815.9249623616536"
      ]
    },
    {
      "cell_type": "code",
      "execution_count": null,
      "metadata": {
        "id": "sBXjghLdeatA"
      },
      "outputs": [],
      "source": []
    }
  ],
  "metadata": {
    "colab": {
      "provenance": []
    },
    "kernelspec": {
      "display_name": "Python 3",
      "name": "python3"
    },
    "language_info": {
      "codemirror_mode": {
        "name": "ipython",
        "version": 3
      },
      "file_extension": ".py",
      "mimetype": "text/x-python",
      "name": "python",
      "nbconvert_exporter": "python",
      "pygments_lexer": "ipython3",
      "version": "3.11.5"
    }
  },
  "nbformat": 4,
  "nbformat_minor": 0
}
